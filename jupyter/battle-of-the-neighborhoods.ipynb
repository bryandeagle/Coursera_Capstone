{
 "cells": [
  {
   "cell_type": "markdown",
   "metadata": {},
   "source": [
    "# Determining Optimal Food Truck Locations\n",
    "_Evaluating Neighborhoods in Austin, Texas_\n",
    "\n",
    "The audience for this data science problem will be owners and operators of traveling food trucks. As food truck operators enter a new city and a new market, a persistent question will be: where to park the foodtruck for maximum revenue. We will attempt to use data science and data from Foursquare to allow foodtruck operators to make a data-informed decision about where to park their food truck.\n",
    "\n",
    "In this project we will determine the optimal Austin neighborhood to park a new food truck in. We will understand each Austin neighborhood's proximity to popular nightlife spots, as well as how saturated the food truck market is in the given neighborhood."
   ]
  },
  {
   "cell_type": "markdown",
   "metadata": {},
   "source": [
    "### Import Required Libraries and Set Global Variables"
   ]
  },
  {
   "cell_type": "code",
   "execution_count": 13,
   "metadata": {},
   "outputs": [],
   "source": [
    "from sklearn import metrics, preprocessing\n",
    "from geopy.geocoders import Nominatim\n",
    "from IPython.display import display\n",
    "from sklearn.cluster import DBSCAN\n",
    "import matplotlib.pyplot as plt\n",
    "import matplotlib as mpl\n",
    "from scipy import stats\n",
    "import pandas as pd\n",
    "import numpy as np\n",
    "import requests\n",
    "import folium\n",
    "import random\n",
    "\n",
    "mpl.style.use('seaborn-muted')\n",
    "client_id = 'GGIL3FS30MVYZXY0LH1243H5A2QNHDGQJD2P3YHH1ELMLLVP'\n",
    "client_secret = 'WHZXQ1O5I351N0VLZUG4GYNC53F4N3RWFSR3JYK2LKL2XV24'\n",
    "version = '20201120'  # Date this code was developed"
   ]
  },
  {
   "cell_type": "markdown",
   "metadata": {},
   "source": [
    "## Get List of Austin Neighborhoods\n",
    "I manually compiled a list of Austin Neighborhoods at [this link](https://raw.githubusercontent.com/bryandeagle/Coursera_Capstone/main/austin.csv). This is a CSV file containing neighborhoods with longitudes and latitudes. It was compiled from the Wikipedia page [Category:Neighborhoods in Austin, Texas](https://en.wikipedia.org/wiki/Category:Neighborhoods_in_Austin,_Texas)."
   ]
  },
  {
   "cell_type": "code",
   "execution_count": 11,
   "metadata": {},
   "outputs": [
    {
     "data": {
      "text/html": [
       "<div>\n",
       "<style scoped>\n",
       "    .dataframe tbody tr th:only-of-type {\n",
       "        vertical-align: middle;\n",
       "    }\n",
       "\n",
       "    .dataframe tbody tr th {\n",
       "        vertical-align: top;\n",
       "    }\n",
       "\n",
       "    .dataframe thead th {\n",
       "        text-align: right;\n",
       "    }\n",
       "</style>\n",
       "<table border=\"1\" class=\"dataframe\">\n",
       "  <thead>\n",
       "    <tr style=\"text-align: right;\">\n",
       "      <th></th>\n",
       "      <th>Neighborhood</th>\n",
       "      <th>Latitude</th>\n",
       "      <th>Longitude</th>\n",
       "    </tr>\n",
       "  </thead>\n",
       "  <tbody>\n",
       "    <tr>\n",
       "      <th>0</th>\n",
       "      <td>Allandale</td>\n",
       "      <td>30.342000</td>\n",
       "      <td>-97.744000</td>\n",
       "    </tr>\n",
       "    <tr>\n",
       "      <th>1</th>\n",
       "      <td>Anderson Mill</td>\n",
       "      <td>30.455000</td>\n",
       "      <td>-97.809167</td>\n",
       "    </tr>\n",
       "    <tr>\n",
       "      <th>2</th>\n",
       "      <td>Barton Hills</td>\n",
       "      <td>30.258056</td>\n",
       "      <td>-97.781111</td>\n",
       "    </tr>\n",
       "    <tr>\n",
       "      <th>3</th>\n",
       "      <td>Blackland</td>\n",
       "      <td>30.280991</td>\n",
       "      <td>-97.722097</td>\n",
       "    </tr>\n",
       "    <tr>\n",
       "      <th>4</th>\n",
       "      <td>Bouldin Creek</td>\n",
       "      <td>30.249344</td>\n",
       "      <td>-97.755253</td>\n",
       "    </tr>\n",
       "  </tbody>\n",
       "</table>\n",
       "</div>"
      ],
      "text/plain": [
       "    Neighborhood   Latitude  Longitude\n",
       "0      Allandale  30.342000 -97.744000\n",
       "1  Anderson Mill  30.455000 -97.809167\n",
       "2   Barton Hills  30.258056 -97.781111\n",
       "3      Blackland  30.280991 -97.722097\n",
       "4  Bouldin Creek  30.249344 -97.755253"
      ]
     },
     "execution_count": 11,
     "metadata": {},
     "output_type": "execute_result"
    }
   ],
   "source": [
    "df = pd.read_csv('https://github.com/bryandeagle/Coursera_Capstone/raw/main/data/austin.csv')\n",
    "df.head()"
   ]
  },
  {
   "cell_type": "markdown",
   "metadata": {},
   "source": [
    "## Get Proximity to Nightlife and Food Trucks\n",
    "\n",
    "The *venue_count* function below uses the Foursquare API to get a count of venues with 1 km radius of a given location. It will be used to find the counts of nightlife spots and food trucks.\n",
    "\n",
    "I've also created a dummy function which returns random data to help me debug without running through my Foursquare API call quota.\n",
    "\n",
    "The Foursquare categories I'm using are below. Food truck consists of a single category, while nightlife consisters of a large set of categories. Those categories are: Beach Bar, Beer Bar, Beer Garden, Champagne Bar, Cocktail bar, Dive Bar, Gay Bar, Hookah Bar, Karaoke Bar, Pub, Sake Bar, Speakeasy, Tiki Bar, Whisky Bar, Wine Bar, Brewery, Lounge, Nightclub, and Other Nightlife."
   ]
  },
  {
   "cell_type": "code",
   "execution_count": 3,
   "metadata": {},
   "outputs": [],
   "source": [
    "# Foursquare categories\n",
    "foodtruck = '4bf58dd8d48988d1cb941735'\n",
    "nightlife = '52e81612bcbc57f1066b7a0d,56aa371ce4b08b9a8d57356c,4bf58dd8d48988d117941735,52e81612bcbc57f1066b7a0e,4bf58dd8d48988d11e941735,4bf58dd8d48988d118941735,4bf58dd8d48988d1d8941735,4bf58dd8d48988d119941735,4bf58dd8d48988d120941735,4bf58dd8d48988d11b941735,4bf58dd8d48988d11c941735,4bf58dd8d48988d1d4941735,56aa371be4b08b9a8d57354d,4bf58dd8d48988d122941735,4bf58dd8d48988d123941735,50327c8591d4c4b30a586d5d,4bf58dd8d48988d121941735,4bf58dd8d48988d11f941735,4bf58dd8d48988d11a941735'"
   ]
  },
  {
   "cell_type": "code",
   "execution_count": 4,
   "metadata": {},
   "outputs": [],
   "source": [
    "def venue_count_dummy(row, category):\n",
    "    \"\"\" Dummy of venue count to avoid exceeding quota during debug \"\"\"\n",
    "    return random.randint(0, 50)\n",
    "\n",
    "def venue_count(row, category):\n",
    "    \"\"\" Returns count of venues within a 1 km radius of a location \"\"\"\n",
    "    url = 'https://api.foursquare.com/v2/venues/explore?client_id={}&client_secret={}&ll={},{}' \\\n",
    "          '&v={}&categoryId={}&radius=1000&limit=50'.format(client_id, client_secret, row[0], row[1], \\\n",
    "                                                            version, category)\n",
    "    results = requests.get(url).json()\n",
    "    if results['meta']['code'] == '429':\n",
    "        raise ValueError('Foursquare Quota Exceeded')\n",
    "    return int(results['response']['totalResults'])"
   ]
  },
  {
   "cell_type": "markdown",
   "metadata": {},
   "source": [
    "### Adding Nightlife and Food Truck Columns to Data Frame\n",
    "\n",
    "Here I create my new columns using the function defined above. I get a nightlife count for each neighborhood, I drop neighborhoods with less than 5 nightlife spots, and then I add food truck information. This helps minimize API calls."
   ]
  },
  {
   "cell_type": "code",
   "execution_count": 14,
   "metadata": {},
   "outputs": [
    {
     "data": {
      "text/html": [
       "<div>\n",
       "<style scoped>\n",
       "    .dataframe tbody tr th:only-of-type {\n",
       "        vertical-align: middle;\n",
       "    }\n",
       "\n",
       "    .dataframe tbody tr th {\n",
       "        vertical-align: top;\n",
       "    }\n",
       "\n",
       "    .dataframe thead th {\n",
       "        text-align: right;\n",
       "    }\n",
       "</style>\n",
       "<table border=\"1\" class=\"dataframe\">\n",
       "  <thead>\n",
       "    <tr style=\"text-align: right;\">\n",
       "      <th></th>\n",
       "      <th>Neighborhood</th>\n",
       "      <th>Latitude</th>\n",
       "      <th>Longitude</th>\n",
       "      <th>Nightlife</th>\n",
       "      <th>Food Truck</th>\n",
       "      <th>FNR</th>\n",
       "    </tr>\n",
       "  </thead>\n",
       "  <tbody>\n",
       "    <tr>\n",
       "      <th>27</th>\n",
       "      <td>North Shoal Creek</td>\n",
       "      <td>30.365300</td>\n",
       "      <td>-97.733500</td>\n",
       "      <td>8</td>\n",
       "      <td>3</td>\n",
       "      <td>0.375000</td>\n",
       "    </tr>\n",
       "    <tr>\n",
       "      <th>12</th>\n",
       "      <td>Clarksville</td>\n",
       "      <td>30.280833</td>\n",
       "      <td>-97.762222</td>\n",
       "      <td>5</td>\n",
       "      <td>2</td>\n",
       "      <td>0.400000</td>\n",
       "    </tr>\n",
       "    <tr>\n",
       "      <th>33</th>\n",
       "      <td>Saint John</td>\n",
       "      <td>30.330000</td>\n",
       "      <td>-97.698000</td>\n",
       "      <td>6</td>\n",
       "      <td>3</td>\n",
       "      <td>0.500000</td>\n",
       "    </tr>\n",
       "    <tr>\n",
       "      <th>5</th>\n",
       "      <td>Bremond Block</td>\n",
       "      <td>30.270556</td>\n",
       "      <td>-97.746389</td>\n",
       "      <td>158</td>\n",
       "      <td>117</td>\n",
       "      <td>0.740506</td>\n",
       "    </tr>\n",
       "    <tr>\n",
       "      <th>15</th>\n",
       "      <td>Downtown Austin</td>\n",
       "      <td>30.271000</td>\n",
       "      <td>-97.743000</td>\n",
       "      <td>169</td>\n",
       "      <td>130</td>\n",
       "      <td>0.769231</td>\n",
       "    </tr>\n",
       "    <tr>\n",
       "      <th>25</th>\n",
       "      <td>Mueller Community</td>\n",
       "      <td>30.289444</td>\n",
       "      <td>-97.702636</td>\n",
       "      <td>7</td>\n",
       "      <td>6</td>\n",
       "      <td>0.857143</td>\n",
       "    </tr>\n",
       "    <tr>\n",
       "      <th>13</th>\n",
       "      <td>Congress Avenue</td>\n",
       "      <td>30.267778</td>\n",
       "      <td>-97.742500</td>\n",
       "      <td>182</td>\n",
       "      <td>163</td>\n",
       "      <td>0.895604</td>\n",
       "    </tr>\n",
       "    <tr>\n",
       "      <th>48</th>\n",
       "      <td>Zilker</td>\n",
       "      <td>30.250000</td>\n",
       "      <td>-97.766667</td>\n",
       "      <td>15</td>\n",
       "      <td>16</td>\n",
       "      <td>1.066667</td>\n",
       "    </tr>\n",
       "    <tr>\n",
       "      <th>41</th>\n",
       "      <td>Travis Heights</td>\n",
       "      <td>30.241667</td>\n",
       "      <td>-97.741667</td>\n",
       "      <td>5</td>\n",
       "      <td>7</td>\n",
       "      <td>1.400000</td>\n",
       "    </tr>\n",
       "    <tr>\n",
       "      <th>31</th>\n",
       "      <td>Rainey Street</td>\n",
       "      <td>30.259444</td>\n",
       "      <td>-97.738333</td>\n",
       "      <td>120</td>\n",
       "      <td>177</td>\n",
       "      <td>1.475000</td>\n",
       "    </tr>\n",
       "    <tr>\n",
       "      <th>26</th>\n",
       "      <td>North Burnet–Gateway</td>\n",
       "      <td>30.393000</td>\n",
       "      <td>-97.721000</td>\n",
       "      <td>9</td>\n",
       "      <td>14</td>\n",
       "      <td>1.555556</td>\n",
       "    </tr>\n",
       "    <tr>\n",
       "      <th>3</th>\n",
       "      <td>Blackland</td>\n",
       "      <td>30.280991</td>\n",
       "      <td>-97.722097</td>\n",
       "      <td>6</td>\n",
       "      <td>11</td>\n",
       "      <td>1.833333</td>\n",
       "    </tr>\n",
       "    <tr>\n",
       "      <th>44</th>\n",
       "      <td>Willow–Spence Streets</td>\n",
       "      <td>30.259167</td>\n",
       "      <td>-97.734444</td>\n",
       "      <td>82</td>\n",
       "      <td>174</td>\n",
       "      <td>2.121951</td>\n",
       "    </tr>\n",
       "    <tr>\n",
       "      <th>39</th>\n",
       "      <td>Swedish Hill</td>\n",
       "      <td>30.275000</td>\n",
       "      <td>-97.729444</td>\n",
       "      <td>14</td>\n",
       "      <td>38</td>\n",
       "      <td>2.714286</td>\n",
       "    </tr>\n",
       "    <tr>\n",
       "      <th>4</th>\n",
       "      <td>Bouldin Creek</td>\n",
       "      <td>30.249344</td>\n",
       "      <td>-97.755253</td>\n",
       "      <td>10</td>\n",
       "      <td>60</td>\n",
       "      <td>6.000000</td>\n",
       "    </tr>\n",
       "    <tr>\n",
       "      <th>35</th>\n",
       "      <td>South Congress</td>\n",
       "      <td>30.250000</td>\n",
       "      <td>-97.750000</td>\n",
       "      <td>9</td>\n",
       "      <td>54</td>\n",
       "      <td>6.000000</td>\n",
       "    </tr>\n",
       "  </tbody>\n",
       "</table>\n",
       "</div>"
      ],
      "text/plain": [
       "             Neighborhood   Latitude  Longitude  Nightlife  Food Truck  \\\n",
       "27      North Shoal Creek  30.365300 -97.733500          8           3   \n",
       "12            Clarksville  30.280833 -97.762222          5           2   \n",
       "33             Saint John  30.330000 -97.698000          6           3   \n",
       "5           Bremond Block  30.270556 -97.746389        158         117   \n",
       "15        Downtown Austin  30.271000 -97.743000        169         130   \n",
       "25      Mueller Community  30.289444 -97.702636          7           6   \n",
       "13        Congress Avenue  30.267778 -97.742500        182         163   \n",
       "48                 Zilker  30.250000 -97.766667         15          16   \n",
       "41         Travis Heights  30.241667 -97.741667          5           7   \n",
       "31          Rainey Street  30.259444 -97.738333        120         177   \n",
       "26   North Burnet–Gateway  30.393000 -97.721000          9          14   \n",
       "3               Blackland  30.280991 -97.722097          6          11   \n",
       "44  Willow–Spence Streets  30.259167 -97.734444         82         174   \n",
       "39           Swedish Hill  30.275000 -97.729444         14          38   \n",
       "4           Bouldin Creek  30.249344 -97.755253         10          60   \n",
       "35         South Congress  30.250000 -97.750000          9          54   \n",
       "\n",
       "         FNR  \n",
       "27  0.375000  \n",
       "12  0.400000  \n",
       "33  0.500000  \n",
       "5   0.740506  \n",
       "15  0.769231  \n",
       "25  0.857143  \n",
       "13  0.895604  \n",
       "48  1.066667  \n",
       "41  1.400000  \n",
       "31  1.475000  \n",
       "26  1.555556  \n",
       "3   1.833333  \n",
       "44  2.121951  \n",
       "39  2.714286  \n",
       "4   6.000000  \n",
       "35  6.000000  "
      ]
     },
     "metadata": {},
     "output_type": "display_data"
    }
   ],
   "source": [
    "# Get nighlife venue count and add to dataframe\n",
    "df['Nightlife'] = df[['Latitude', 'Longitude']].apply(venue_count, args=(nightlife,), axis=1)\n",
    "\n",
    "# Drop neighborhoods with to few nightlife spots\n",
    "df.drop(df[df['Nightlife'] < 5 ].index, inplace=True)\n",
    "\n",
    "# Get food truck venue count and add to dataframe\n",
    "df['Food Truck'] = df[['Latitude', 'Longitude']].apply(venue_count, args=(foodtruck,), axis=1)\n",
    "\n",
    "# Calculate and sort byFoodtruck-to-Bar Ratio (FBR)\n",
    "df['FNR'] = df['Food Truck'] / df['Nightlife']\n",
    "df.sort_values('FNR', inplace=True)\n",
    "display(df)  # Display results"
   ]
  },
  {
   "cell_type": "markdown",
   "metadata": {},
   "source": [
    "### Plot Neighborhoods with Lowest Foodtruck-to-Nightlife Ratio\n",
    "\n",
    "Now we'll make a nice bar chart showing neighborhoods and their foodtruck-to-nightlife ratio. Although not required for finding the minimum, it helps us understand how many similar neighborhoods there are. As you can see Clarksville is in a similar position to North Shoal Creek."
   ]
  },
  {
   "cell_type": "code",
   "execution_count": 6,
   "metadata": {},
   "outputs": [
    {
     "data": {
      "image/png": "[encoded data removed]",
      "text/plain": [
       "<Figure size 1152x432 with 1 Axes>"
      ]
     },
     "metadata": {
      "needs_background": "light"
     },
     "output_type": "display_data"
    }
   ],
   "source": [
    "# Plot neighborhoods in descendingn order by BFR\n",
    "df.plot(kind='bar',\n",
    "        x='Neighborhood', y='FNR', xlabel='',\n",
    "        figsize=(16, 6), fontsize=12, legend=None)\n",
    "plt.title('Austin Neighborhoods Foodtruck-to-Nightlife Ratio', fontsize=14, fontweight='bold')\n",
    "plt.ylabel('Foodtruck-to-Nightlife Ratio', fontsize=14)\n",
    "plt.show()"
   ]
  },
  {
   "cell_type": "markdown",
   "metadata": {},
   "source": [
    "## Select the Best Neighborhood\n",
    "Here we'll grab the neighborhood with the minimal Foodtruck-to-Nighlife ratio and convert to a dictionary for easy manipulation."
   ]
  },
  {
   "cell_type": "code",
   "execution_count": 7,
   "metadata": {},
   "outputs": [
    {
     "name": "stdout",
     "output_type": "stream",
     "text": [
      "Best Neighborhood: North Shoal Creek!\n"
     ]
    }
   ],
   "source": [
    "# Get row(s) with minimal foodtruck-to-nightlife ratio\n",
    "nbh_df = df[df['FNR'] == df['FNR'].min()]\n",
    "\n",
    "# Convert dataframe to dictionary\n",
    "nbh_dict = nbh_df.to_dict('records')[0]\n",
    "\n",
    "print('Best Neighborhood: {}!'.format(nbh_dict['Neighborhood']))"
   ]
  },
  {
   "cell_type": "markdown",
   "metadata": {},
   "source": [
    "## Get Venues in Neighborhood\n",
    "Now we'll use the Foursquare API to get a list of nightlife spots in the neighborhood, with the end goal of determining where in this neighborhood to park our food truck."
   ]
  },
  {
   "cell_type": "code",
   "execution_count": 8,
   "metadata": {},
   "outputs": [
    {
     "data": {
      "text/html": [
       "<div>\n",
       "<style scoped>\n",
       "    .dataframe tbody tr th:only-of-type {\n",
       "        vertical-align: middle;\n",
       "    }\n",
       "\n",
       "    .dataframe tbody tr th {\n",
       "        vertical-align: top;\n",
       "    }\n",
       "\n",
       "    .dataframe thead th {\n",
       "        text-align: right;\n",
       "    }\n",
       "</style>\n",
       "<table border=\"1\" class=\"dataframe\">\n",
       "  <thead>\n",
       "    <tr style=\"text-align: right;\">\n",
       "      <th></th>\n",
       "      <th>Venue</th>\n",
       "      <th>Latitude</th>\n",
       "      <th>Longitude</th>\n",
       "    </tr>\n",
       "  </thead>\n",
       "  <tbody>\n",
       "    <tr>\n",
       "      <th>0</th>\n",
       "      <td>The Common Interest Karaoke Bar &amp; Grill</td>\n",
       "      <td>30.366192</td>\n",
       "      <td>-97.729144</td>\n",
       "    </tr>\n",
       "    <tr>\n",
       "      <th>1</th>\n",
       "      <td>Slick Willie's Family Pool</td>\n",
       "      <td>30.366677</td>\n",
       "      <td>-97.729049</td>\n",
       "    </tr>\n",
       "    <tr>\n",
       "      <th>2</th>\n",
       "      <td>Water 2 Wine</td>\n",
       "      <td>30.362011</td>\n",
       "      <td>-97.742086</td>\n",
       "    </tr>\n",
       "    <tr>\n",
       "      <th>3</th>\n",
       "      <td>Nosh &amp; Bevvy</td>\n",
       "      <td>30.365414</td>\n",
       "      <td>-97.728802</td>\n",
       "    </tr>\n",
       "    <tr>\n",
       "      <th>4</th>\n",
       "      <td>Buddy's</td>\n",
       "      <td>30.368978</td>\n",
       "      <td>-97.727205</td>\n",
       "    </tr>\n",
       "  </tbody>\n",
       "</table>\n",
       "</div>"
      ],
      "text/plain": [
       "                                     Venue   Latitude  Longitude\n",
       "0  The Common Interest Karaoke Bar & Grill  30.366192 -97.729144\n",
       "1               Slick Willie's Family Pool  30.366677 -97.729049\n",
       "2                             Water 2 Wine  30.362011 -97.742086\n",
       "3                             Nosh & Bevvy  30.365414 -97.728802\n",
       "4                                  Buddy's  30.368978 -97.727205"
      ]
     },
     "execution_count": 8,
     "metadata": {},
     "output_type": "execute_result"
    }
   ],
   "source": [
    "def venues(latitude, longitude, category):\n",
    "    \"\"\" Returns venues within a 1 km radius of a location \"\"\"\n",
    "    url = 'https://api.foursquare.com/v2/venues/explore?client_id={}&client_secret={}&ll={},{}' \\\n",
    "          '&v={}&categoryId={}&radius=1000&limit=50'.format(client_id, client_secret, latitude, \\\n",
    "                                                            longitude, version, category)\n",
    "    results = requests.get(url).json()\n",
    "    if results['meta']['code'] == '429':\n",
    "        raise ValueError('Foursquare Quota Exceeded')\n",
    "    return pd.json_normalize(results['response']['groups'][0]['items'])\n",
    "\n",
    "df_nl = venues(nbh_dict['Latitude'], nbh_dict['Longitude'], nightlife)\n",
    "df_nl = df_nl[['venue.name', 'venue.location.lat', 'venue.location.lng']]\n",
    "df_nl.columns = ['Venue', 'Latitude', 'Longitude']\n",
    "df_nl.head()"
   ]
  },
  {
   "cell_type": "markdown",
   "metadata": {},
   "source": [
    "## Find Clusters of Nightlife Spots Within Neighborhood\n",
    "Here we'll use the DBSCAN of clustering to cluster nightlife spots. We know there will be loner bars, not clumped together and we want to be able to exclude those as noise, so DBSCAN will be a good method of clustering in this application."
   ]
  },
  {
   "cell_type": "code",
   "execution_count": 9,
   "metadata": {},
   "outputs": [
    {
     "name": "stdout",
     "output_type": "stream",
     "text": [
      "Best Parking Location: (30.367016031794574, -97.72840703272023).\n"
     ]
    }
   ],
   "source": [
    "mms = preprocessing.MinMaxScaler()\n",
    "lat_lng = mms.fit_transform(df_nl[['Latitude', 'Longitude']])\n",
    "db = DBSCAN(eps=0.5, min_samples=3).fit(lat_lng)\n",
    "\n",
    "labels = db.labels_\n",
    "unique_labels = set(labels)\n",
    "\n",
    "# Add labels as column in dataframe\n",
    "df_nl['Label'] = labels\n",
    "\n",
    "# Get the biggest cluster of nightlife spots\n",
    "cluster = stats.mode(labels[labels >= 0])[0][0]\n",
    "\n",
    "# Parking spot should be average of nightlife spots\n",
    "df_c = df_nl[df_nl['Label'] == cluster]\n",
    "prk_lat, prk_lng = df_c['Latitude'].mean(), df_c['Longitude'].mean()\n",
    "\n",
    "print('Best Parking Location: ({}, {}).'.format(prk_lat, prk_lng))"
   ]
  },
  {
   "cell_type": "markdown",
   "metadata": {},
   "source": [
    "## Create Map of Clusters\n",
    "Now we'll use Folium to creat a map of our neighborhood, and highlight the clusters. We'll create a red point representing the center of the neighborhood, and a green point representing the best parking location. Black dots will represent *noise* and the clusters will be randomly colored."
   ]
  },
  {
   "cell_type": "code",
   "execution_count": 15,
   "metadata": {
    "scrolled": false
   },
   "outputs": [
    {
     "data": {
      "text/html": [
       "<div style=\"width:100%;\"><div style=\"position:relative;width:100%;height:0;padding-bottom:60%;\"><span style=\"color:#565656\">Make this Notebook Trusted to load map: File -> Trust Notebook</span><iframe src=\"about:blank\" style=\"position:absolute;width:100%;height:100%;left:0;top:0;border:none !important;\" data-html=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 onload=\"this.contentDocument.open();this.contentDocument.write(atob(this.getAttribute('data-html')));this.contentDocument.close();\" allowfullscreen webkitallowfullscreen mozallowfullscreen></iframe></div></div>"
      ],
      "text/plain": [
       "<folium.folium.Map at 0x1d3656d8040>"
      ]
     },
     "execution_count": 15,
     "metadata": {},
     "output_type": "execute_result"
    }
   ],
   "source": [
    "# Creat map object\n",
    "venues_map = folium.Map(location=[nbh_dict['Latitude'], nbh_dict['Longitude']], zoom_start=14)\n",
    "\n",
    "# Add neighborhood center as red circle marker\n",
    "folium.CircleMarker(\n",
    "        [nbh_dict['Latitude'], nbh_dict['Longitude']],\n",
    "        radius=4,\n",
    "        popup=nbh_dict['Neighborhood'],\n",
    "        fill=True,\n",
    "        color='red',\n",
    "        fill_color='red',\n",
    "        fill_opacity=1.0\n",
    "    ).add_to(venues_map)\n",
    "\n",
    "# Create colors for unique labels\n",
    "def rand_color():\n",
    "    return \"#%06x\" % random.randrange(0, 16**6)\n",
    "\n",
    "colors = [rand_color()] * len(unique_labels)\n",
    "\n",
    "# add the nightlife spots as blue circle markers\n",
    "for lat, lng, name, label in zip(df_nl['Latitude'], df_nl['Longitude'], df_nl['Venue'], labels):    \n",
    "    col = colors[label] if label >= 0 else 'black'\n",
    "    folium.CircleMarker(\n",
    "        [lat, lng],\n",
    "        radius=4,\n",
    "        popup=name,\n",
    "        fill=True,\n",
    "        color=col,\n",
    "        fill_color=col,\n",
    "        fill_opacity=1.0\n",
    "    ).add_to(venues_map)\n",
    "\n",
    "# Add parking spot as white circle marker\n",
    "folium.CircleMarker(\n",
    "        [prk_lat, prk_lng],\n",
    "        radius=4,\n",
    "        popup='Best Parking Spot',\n",
    "        fill=True,\n",
    "        color='green',\n",
    "        fill_color='green',\n",
    "        fill_opacity=1.0\n",
    "    ).add_to(venues_map)\n",
    "\n",
    "venues_map"
   ]
  },
  {
   "cell_type": "markdown",
   "metadata": {},
   "source": [
    "## Get Address of Ideal Food Truck Parking Spot\n",
    "Now we'll use geopy to get the address of our parking spot, which would be the final deliverable for our foodtruck driver."
   ]
  },
  {
   "cell_type": "code",
   "execution_count": null,
   "metadata": {},
   "outputs": [],
   "source": [
    "parking_spot = Nominatim(user_agent='explore').reverse((prk_lat, prk_lng)).raw\n",
    "print('Ideal Parking Spot: {}.'.format(parking_spot['display_name']))"
   ]
  }
 ],
 "metadata": {
  "kernelspec": {
   "display_name": "Python 3",
   "language": "python",
   "name": "python3"
  },
  "language_info": {
   "codemirror_mode": {
    "name": "ipython",
    "version": 3
   },
   "file_extension": ".py",
   "mimetype": "text/x-python",
   "name": "python",
   "nbconvert_exporter": "python",
   "pygments_lexer": "ipython3",
   "version": "3.8.5"
  }
 },
 "nbformat": 4,
 "nbformat_minor": 4
}
